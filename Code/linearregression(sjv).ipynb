{
 "cells": [
  {
   "cell_type": "code",
   "execution_count": 1,
   "metadata": {},
   "outputs": [],
   "source": [
    "import numpy as np\n",
    "import matplotlib.pyplot as plt\n",
    "import pandas as pd\n",
    "import seaborn as sb\n",
    "%matplotlib inline"
   ]
  },
  {
   "cell_type": "code",
   "execution_count": 7,
   "metadata": {},
   "outputs": [
    {
     "data": {
      "text/html": [
       "<div>\n",
       "<style scoped>\n",
       "    .dataframe tbody tr th:only-of-type {\n",
       "        vertical-align: middle;\n",
       "    }\n",
       "\n",
       "    .dataframe tbody tr th {\n",
       "        vertical-align: top;\n",
       "    }\n",
       "\n",
       "    .dataframe thead th {\n",
       "        text-align: right;\n",
       "    }\n",
       "</style>\n",
       "<table border=\"1\" class=\"dataframe\">\n",
       "  <thead>\n",
       "    <tr style=\"text-align: right;\">\n",
       "      <th></th>\n",
       "      <th>JAARTAL</th>\n",
       "      <th>STRAATNAAM</th>\n",
       "      <th>POSTCODE_VAN</th>\n",
       "      <th>POSTCODE_TOT</th>\n",
       "      <th>PRODUCTSOORT</th>\n",
       "      <th>Aantal Aansluitingen</th>\n",
       "      <th>%Leveringsrichting</th>\n",
       "      <th>%Fysieke status</th>\n",
       "      <th>%Soort aansluiting</th>\n",
       "      <th>Soort aansluiting Naam</th>\n",
       "      <th>SJV</th>\n",
       "      <th>%SJV laag tarief</th>\n",
       "      <th>%Slimme Meter</th>\n",
       "    </tr>\n",
       "  </thead>\n",
       "  <tbody>\n",
       "    <tr>\n",
       "      <th>0</th>\n",
       "      <td>2018</td>\n",
       "      <td>De Ruyterkade Steigers</td>\n",
       "      <td>1011AA</td>\n",
       "      <td>1011AB</td>\n",
       "      <td>0</td>\n",
       "      <td>35</td>\n",
       "      <td>10</td>\n",
       "      <td>3</td>\n",
       "      <td>31</td>\n",
       "      <td>3x25</td>\n",
       "      <td>14403</td>\n",
       "      <td>4</td>\n",
       "      <td>2</td>\n",
       "    </tr>\n",
       "    <tr>\n",
       "      <th>1</th>\n",
       "      <td>2018</td>\n",
       "      <td>De Ruyterkade</td>\n",
       "      <td>1011AC</td>\n",
       "      <td>1011AC</td>\n",
       "      <td>0</td>\n",
       "      <td>39</td>\n",
       "      <td>10</td>\n",
       "      <td>5</td>\n",
       "      <td>28</td>\n",
       "      <td>3x80</td>\n",
       "      <td>18739</td>\n",
       "      <td>5</td>\n",
       "      <td>2</td>\n",
       "    </tr>\n",
       "    <tr>\n",
       "      <th>2</th>\n",
       "      <td>2018</td>\n",
       "      <td>De Ruyterkade</td>\n",
       "      <td>1011AC</td>\n",
       "      <td>1011AC</td>\n",
       "      <td>1</td>\n",
       "      <td>24</td>\n",
       "      <td>10</td>\n",
       "      <td>7</td>\n",
       "      <td>38</td>\n",
       "      <td>G6</td>\n",
       "      <td>6589</td>\n",
       "      <td>0</td>\n",
       "      <td>2</td>\n",
       "    </tr>\n",
       "    <tr>\n",
       "      <th>3</th>\n",
       "      <td>2018</td>\n",
       "      <td>Oosterdokskade</td>\n",
       "      <td>1011AD</td>\n",
       "      <td>1011AD</td>\n",
       "      <td>0</td>\n",
       "      <td>19</td>\n",
       "      <td>10</td>\n",
       "      <td>0</td>\n",
       "      <td>58</td>\n",
       "      <td>3x25</td>\n",
       "      <td>4026</td>\n",
       "      <td>5</td>\n",
       "      <td>0</td>\n",
       "    </tr>\n",
       "    <tr>\n",
       "      <th>4</th>\n",
       "      <td>2018</td>\n",
       "      <td>Oosterdokskade</td>\n",
       "      <td>1011AD</td>\n",
       "      <td>1011AE</td>\n",
       "      <td>1</td>\n",
       "      <td>11</td>\n",
       "      <td>10</td>\n",
       "      <td>0</td>\n",
       "      <td>82</td>\n",
       "      <td>G4</td>\n",
       "      <td>710</td>\n",
       "      <td>0</td>\n",
       "      <td>0</td>\n",
       "    </tr>\n",
       "  </tbody>\n",
       "</table>\n",
       "</div>"
      ],
      "text/plain": [
       "   JAARTAL              STRAATNAAM POSTCODE_VAN POSTCODE_TOT  PRODUCTSOORT  \\\n",
       "0     2018  De Ruyterkade Steigers       1011AA       1011AB             0   \n",
       "1     2018           De Ruyterkade       1011AC       1011AC             0   \n",
       "2     2018           De Ruyterkade       1011AC       1011AC             1   \n",
       "3     2018          Oosterdokskade       1011AD       1011AD             0   \n",
       "4     2018          Oosterdokskade       1011AD       1011AE             1   \n",
       "\n",
       "   Aantal Aansluitingen  %Leveringsrichting  %Fysieke status  \\\n",
       "0                    35                  10                3   \n",
       "1                    39                  10                5   \n",
       "2                    24                  10                7   \n",
       "3                    19                  10                0   \n",
       "4                    11                  10                0   \n",
       "\n",
       "   %Soort aansluiting Soort aansluiting Naam    SJV  %SJV laag tarief  \\\n",
       "0                  31                   3x25  14403                 4   \n",
       "1                  28                   3x80  18739                 5   \n",
       "2                  38                     G6   6589                 0   \n",
       "3                  58                   3x25   4026                 5   \n",
       "4                  82                     G4    710                 0   \n",
       "\n",
       "   %Slimme Meter  \n",
       "0              2  \n",
       "1              2  \n",
       "2              2  \n",
       "3              0  \n",
       "4              0  "
      ]
     },
     "execution_count": 7,
     "metadata": {},
     "output_type": "execute_result"
    }
   ],
   "source": [
    "data = pd.read_csv('../Data/clean/finalclean3.0.csv', encoding = 'latin-1', low_memory = False)\n",
    "x = data.iloc[:1000,:9].values\n",
    "y = data.iloc[:1000,10].values\n",
    "\n",
    "data.head()"
   ]
  },
  {
   "cell_type": "code",
   "execution_count": 9,
   "metadata": {},
   "outputs": [
    {
     "data": {
      "text/plain": [
       "<matplotlib.axes._subplots.AxesSubplot at 0x1f99512fd68>"
      ]
     },
     "execution_count": 9,
     "metadata": {},
     "output_type": "execute_result"
    },
    {
     "data": {
      "image/png": "[encoded data removed]",
      "text/plain": [
       "<matplotlib.figure.Figure at 0x1f995108a58>"
      ]
     },
     "metadata": {},
     "output_type": "display_data"
    }
   ],
   "source": [
    "sb.heatmap(data.corr())"
   ]
  },
  {
   "cell_type": "code",
   "execution_count": 10,
   "metadata": {},
   "outputs": [],
   "source": [
    "from sklearn.preprocessing import LabelEncoder, OneHotEncoder\n",
    "labelencoder = LabelEncoder()\n",
    "x[:,1] = labelencoder.fit_transform(x[:,1])\n",
    "x[:,2] = labelencoder.fit_transform(x[:,2])\n",
    "x[:,3] = labelencoder.fit_transform(x[:,3])\n",
    "\n",
    "\n",
    "\n",
    "onehotencoder = OneHotEncoder(categorical_features = [1])\n",
    "onehotencoder = OneHotEncoder(categorical_features = [2])\n",
    "onehotencoder = OneHotEncoder(categorical_features = [3])\n",
    "x = onehotencoder.fit_transform(x).toarray()"
   ]
  },
  {
   "cell_type": "code",
   "execution_count": 11,
   "metadata": {},
   "outputs": [],
   "source": [
    "x = x[:,1:]"
   ]
  },
  {
   "cell_type": "code",
   "execution_count": 12,
   "metadata": {},
   "outputs": [],
   "source": [
    "from sklearn.model_selection import train_test_split\n",
    "x_train, x_test, y_train, y_test = train_test_split(x, y, test_size = 0.2, random_state = 0)"
   ]
  },
  {
   "cell_type": "code",
   "execution_count": 13,
   "metadata": {},
   "outputs": [
    {
     "data": {
      "text/plain": [
       "LinearRegression(copy_X=True, fit_intercept=True, n_jobs=1, normalize=False)"
      ]
     },
     "execution_count": 13,
     "metadata": {},
     "output_type": "execute_result"
    }
   ],
   "source": [
    "from sklearn.linear_model import LinearRegression\n",
    "regressor = LinearRegression()\n",
    "regressor.fit(x_train, y_train)"
   ]
  },
  {
   "cell_type": "code",
   "execution_count": 14,
   "metadata": {
    "scrolled": false
   },
   "outputs": [
    {
     "data": {
      "text/plain": [
       "array([  6.37575564e+12,   6.37575562e+12,  -2.51734863e+03,\n",
       "         6.37575560e+12,   5.23863477e+03,   3.62501719e+04,\n",
       "         5.20271777e+03,   6.37575557e+12,   6.37575558e+12,\n",
       "         4.51297656e+03,   6.37575560e+12,   7.09745605e+03,\n",
       "         6.37575561e+12,   4.31736523e+03,   9.11069238e+03,\n",
       "         6.58230957e+03,   1.17806836e+03,   5.68671777e+03,\n",
       "         6.73006641e+03,  -2.21039453e+03,   6.24092090e+03,\n",
       "        -7.31715820e+02,   3.59772070e+03,   6.37575558e+12,\n",
       "         6.71503516e+03,   3.60204883e+03,   6.89994629e+03,\n",
       "         9.50467969e+03,   6.36641016e+03,   1.26090625e+04,\n",
       "         7.93015430e+03,   1.60467578e+04,   6.93196289e+03,\n",
       "         2.04141592e+04,  -1.65795703e+03,   4.56023438e+03,\n",
       "         2.68734863e+03,   3.57189941e+03,   3.13457324e+03,\n",
       "         5.95088770e+03,   6.37575558e+12,   6.37575563e+12,\n",
       "         8.57566211e+03,   8.41373145e+03,   6.37575558e+12,\n",
       "         6.37575562e+12,   9.24778223e+03,  -3.24473340e+03,\n",
       "         6.37575558e+12,   8.72100195e+03,   5.03515234e+03,\n",
       "        -1.30550879e+03,   6.37575557e+12,  -2.75910352e+03,\n",
       "         4.66402832e+03,   5.52374023e+03,   6.37575557e+12,\n",
       "        -1.37459961e+02,  -1.46575586e+03,   6.37575558e+12,\n",
       "         6.37575559e+12,   6.37575560e+12,   6.21178711e+03,\n",
       "        -2.15660254e+03,   5.32063281e+03,  -3.15505859e+02,\n",
       "        -2.77934863e+03,   5.94411719e+03,   6.37575557e+12,\n",
       "         6.80659375e+03,   5.97766992e+03,   6.37575558e+12,\n",
       "         6.37575561e+12,   6.44593750e+03,  -1.75572461e+03,\n",
       "         8.55970215e+03,   2.77419336e+03,   6.37575561e+12,\n",
       "         6.37575560e+12,   6.37575560e+12,   6.37575558e+12,\n",
       "         4.46221289e+03,   6.64197070e+03,   7.14027246e+03,\n",
       "         5.72406348e+03,   1.39132168e+04,   6.49653125e+03,\n",
       "        -2.97176953e+03,   6.37575559e+12,   6.33245801e+03,\n",
       "         5.02101758e+03,   6.37575560e+12,   5.43430176e+03,\n",
       "         6.37575558e+12,   6.37575560e+12,  -2.46591699e+03,\n",
       "         6.37575560e+12,   5.96420020e+03,   5.33319238e+03,\n",
       "         6.37575560e+12,   7.35988086e+03,   8.36026367e+02,\n",
       "         5.93194141e+03,  -1.74516992e+03,   6.70989551e+03,\n",
       "         6.50238184e+03,   2.51189326e+04,   6.37575562e+12,\n",
       "         6.37575563e+12,   6.37575557e+12,   6.37575557e+12,\n",
       "         7.33022363e+03,   4.06381250e+03,   6.45575195e+03,\n",
       "         5.60983789e+03,   6.37575559e+12,   6.65959082e+03,\n",
       "         4.98610449e+03,   1.41798242e+03,   5.87013770e+03,\n",
       "        -1.57396582e+03,   3.37037988e+03,   7.42217676e+03,\n",
       "         7.14573145e+03,  -3.20326758e+03,   6.34145020e+03,\n",
       "         4.54011328e+03,  -2.47726172e+03,   5.89538477e+03,\n",
       "         5.37385059e+03,   6.37575559e+12,   5.83614258e+03,\n",
       "         2.26824805e+03,   6.69128613e+03,   8.11448828e+03,\n",
       "         5.89107520e+03,   6.37575558e+12,   6.89613086e+03,\n",
       "         6.46075098e+03,   6.37575562e+12,   6.37575557e+12,\n",
       "         7.87476074e+03,   6.37575560e+12,   4.04219727e+03,\n",
       "         6.37575558e+12,  -1.04548828e+02,   6.37575559e+12,\n",
       "        -1.25767285e+03,  -4.34468750e+02,  -4.36483398e+02,\n",
       "         6.37575558e+12,  -1.02804297e+03,   5.53321289e+03,\n",
       "         7.10395703e+03,   1.87804883e+04,   6.37575563e+12,\n",
       "         6.37575559e+12,   1.15569336e+03,   6.37575562e+12,\n",
       "        -7.93032227e+02,   6.37575560e+12,   6.37575563e+12,\n",
       "         1.36032188e+04,   6.64357812e+03,   6.95070703e+03,\n",
       "         4.99614941e+03,   6.37575558e+12,   6.46142480e+03,\n",
       "        -2.01216504e+03,   2.03393066e+03,   5.24014160e+03,\n",
       "         6.37575562e+12,   6.37575557e+12,   3.23553711e+03,\n",
       "         6.76676562e+03,   8.79756152e+03,   6.37575558e+12,\n",
       "        -2.49396680e+03,   6.42953223e+03,   6.37575557e+12,\n",
       "         1.09904414e+04,   9.12402246e+03,   5.94117578e+03,\n",
       "         6.37575558e+12,   6.37575563e+12,  -1.23215430e+03,\n",
       "         6.37575561e+12,   6.37575559e+12,   7.42880957e+03,\n",
       "        -2.51464160e+03,   5.26230078e+03,   6.24685547e+03,\n",
       "         5.14201465e+03,   5.58606543e+03,   6.33620117e+03,\n",
       "         8.47604102e+03,   4.39114746e+03,   6.37575557e+12,\n",
       "         6.37575561e+12,   6.15600000e+03])"
      ]
     },
     "execution_count": 14,
     "metadata": {},
     "output_type": "execute_result"
    }
   ],
   "source": [
    "y_pred = regressor.predict(x_test)\n",
    "y_pred"
   ]
  },
  {
   "cell_type": "code",
   "execution_count": 15,
   "metadata": {},
   "outputs": [
    {
     "name": "stdout",
     "output_type": "stream",
     "text": [
      "[ -6.37575556e+12  -6.37575555e+12  -6.37575555e+12  -6.37575556e+12\n",
      "  -6.37575554e+12  -6.37575555e+12  -6.37575555e+12  -6.37575555e+12\n",
      "  -6.37575555e+12  -6.37575555e+12  -6.37575555e+12  -6.37575555e+12\n",
      "  -6.37575556e+12  -6.37575555e+12  -6.37575555e+12  -6.37575556e+12\n",
      "  -6.37575556e+12  -6.37575556e+12  -6.37575556e+12  -6.37575555e+12\n",
      "  -6.37575556e+12  -6.37575556e+12  -6.37575556e+12  -6.37575556e+12\n",
      "  -6.37575556e+12  -6.37575556e+12  -6.37575556e+12  -6.37575556e+12\n",
      "  -6.37575556e+12  -6.37575556e+12  -6.37575556e+12  -6.37575556e+12\n",
      "  -6.37575556e+12  -6.37575556e+12  -6.37575556e+12  -6.37575556e+12\n",
      "  -6.37575556e+12  -6.37575556e+12  -6.37575556e+12  -6.37575556e+12\n",
      "  -6.37575556e+12  -6.37575556e+12  -6.37575557e+12  -6.37575557e+12\n",
      "  -6.37575557e+12  -6.37575556e+12  -6.37575556e+12  -6.37575556e+12\n",
      "  -6.37575556e+12  -6.37575556e+12  -6.37575556e+12  -6.37575556e+12\n",
      "  -6.37575556e+12   2.01794137e-12  -6.37575557e+12  -6.37575557e+12\n",
      "   5.41433565e-12  -6.37575556e+12  -6.37575556e+12  -6.37575556e+12\n",
      "  -6.37575556e+12  -6.37575557e+12  -6.37575556e+12  -6.37575557e+12\n",
      "  -6.37575557e+12  -6.37575556e+12  -6.37575557e+12  -6.37575556e+12\n",
      "  -6.37575556e+12  -6.37575556e+12  -6.37575557e+12  -6.37575557e+12\n",
      "  -6.37575557e+12  -6.37575557e+12  -6.37575557e+12  -6.37575557e+12\n",
      "  -6.37575557e+12  -6.37575557e+12  -6.37575557e+12  -5.49816832e-08\n",
      "  -6.37575557e+12  -6.37575557e+12  -6.37575557e+12  -6.37575557e+12\n",
      "  -6.37575557e+12  -6.37575557e+12  -6.37575557e+12  -6.37575557e+12\n",
      "  -6.37575556e+12  -6.37575557e+12  -6.37575557e+12  -6.37575558e+12\n",
      "  -6.37575557e+12  -6.37575557e+12  -6.37575557e+12  -6.37575557e+12\n",
      "  -6.37575557e+12  -6.37575557e+12  -6.37575557e+12  -6.37575557e+12\n",
      "  -6.37575557e+12  -6.37575557e+12  -6.37575557e+12  -6.37575557e+12\n",
      "  -6.37575557e+12  -6.37575557e+12  -6.37575557e+12  -6.37575557e+12\n",
      "  -6.37575557e+12  -6.37575557e+12  -6.37575557e+12  -6.37575557e+12\n",
      "  -6.37575557e+12  -6.37575556e+12  -6.37575557e+12  -1.50066626e-11\n",
      "  -6.37575557e+12  -6.37575557e+12  -6.37575557e+12  -6.37575556e+12\n",
      "  -6.37575557e+12  -6.37575557e+12  -6.37575557e+12  -3.75166564e-12\n",
      "  -6.37575557e+12  -6.37575557e+12  -6.37575557e+12  -6.37575557e+12\n",
      "  -7.95807864e-13  -6.37575557e+12  -6.37575557e+12  -6.37575557e+12\n",
      "  -6.37575557e+12  -6.37575557e+12  -1.81898940e-12  -6.37575557e+12\n",
      "  -6.37575557e+12  -6.37575557e+12  -6.37575558e+12  -4.77484718e-12\n",
      "  -6.37575557e+12  -6.37575557e+12  -6.37575557e+12  -6.37575558e+12\n",
      "   3.63797881e-12  -6.37575557e+12  -6.37575557e+12  -6.37575558e+12\n",
      "   2.55795385e-12  -6.37575558e+12  -6.37575558e+12  -6.37575558e+12\n",
      "  -6.37575558e+12  -6.37575558e+12  -6.37575558e+12  -6.37575558e+12\n",
      "  -6.37575557e+12  -6.37575558e+12  -6.37575558e+12   2.27373675e-12\n",
      "  -6.37575558e+12  -6.37575557e+12  -6.37575558e+12  -6.37575558e+12\n",
      "  -6.37575558e+12  -2.00543582e-10  -6.37575558e+12  -6.37575558e+12\n",
      "  -6.37575558e+12  -6.37575558e+12  -1.44518708e-09  -6.37575558e+12\n",
      "   6.06178219e-10  -6.37575558e+12  -8.91141383e-10  -6.37575557e+12\n",
      "  -6.37575558e+12  -6.37575558e+12  -6.37575558e+12  -6.37575558e+12\n",
      "  -6.37575558e+12  -6.37575558e+12  -6.37575558e+12  -6.37575558e+12\n",
      "  -6.37575558e+12  -6.37575558e+12  -6.37575558e+12  -6.37575558e+12\n",
      "  -6.37575558e+12  -6.37575558e+12  -6.37575557e+12  -6.37575558e+12\n",
      "  -6.37575558e+12  -6.37575558e+12  -6.37575558e+12  -6.37575558e+12\n",
      "  -6.37575558e+12  -6.37575558e+12  -6.37575558e+12  -6.37575558e+12\n",
      "  -6.37575558e+12  -6.37575558e+12  -6.37575558e+12  -6.37575558e+12\n",
      "  -6.37575558e+12  -6.37575559e+12  -6.37575559e+12  -6.37575559e+12\n",
      "  -6.37575559e+12  -6.37575559e+12  -6.37575559e+12  -1.81898940e-12\n",
      "  -6.37575558e+12  -6.37575558e+12  -6.37575558e+12  -6.37575559e+12\n",
      "  -6.37575558e+12  -6.37575559e+12  -6.37575559e+12  -6.37575559e+12\n",
      "  -6.37575559e+12  -6.37575558e+12  -6.37575558e+12  -6.37575559e+12\n",
      "  -6.37575559e+12  -6.37575558e+12  -6.37575558e+12  -6.37575559e+12\n",
      "  -6.37575558e+12  -6.37575558e+12  -6.37575559e+12  -6.37575559e+12\n",
      "  -6.37575558e+12  -6.37575559e+12  -6.37575559e+12  -6.37575559e+12\n",
      "  -6.37575558e+12  -6.37575559e+12  -6.37575559e+12  -6.37575558e+12\n",
      "  -6.37575558e+12  -6.37575559e+12  -6.37575558e+12  -6.37575559e+12\n",
      "  -6.37575558e+12  -6.37575558e+12  -6.37575558e+12  -6.37575559e+12\n",
      "  -6.37575559e+12  -6.37575559e+12  -6.37575559e+12  -1.59161573e-12\n",
      "  -6.37575558e+12  -6.37575558e+12  -6.37575558e+12  -6.37575558e+12\n",
      "  -6.37575559e+12  -6.37575559e+12  -6.37575558e+12  -6.37575558e+12\n",
      "  -6.37575559e+12  -6.37575559e+12  -6.37575559e+12  -6.37575559e+12\n",
      "  -6.37575559e+12  -6.37575559e+12  -6.37575559e+12  -6.37575559e+12\n",
      "  -6.37575559e+12  -6.37575559e+12   5.54791768e-11   1.04989795e-09\n",
      "  -6.37575559e+12  -6.37575560e+12  -6.37575559e+12  -6.37575560e+12\n",
      "  -6.37575559e+12  -6.37575560e+12  -6.37575559e+12  -6.37575559e+12\n",
      "  -6.37575560e+12  -6.37575559e+12  -6.37575559e+12   3.70619091e-11\n",
      "  -6.37575559e+12  -6.37575559e+12  -6.37575559e+12  -6.37575559e+12\n",
      "  -6.37575559e+12  -6.37575559e+12  -6.37575559e+12  -6.37575559e+12\n",
      "  -6.37575559e+12  -6.37575559e+12  -6.37575559e+12  -6.37575559e+12\n",
      "  -6.37575559e+12  -6.37575559e+12  -6.37575559e+12  -6.37575559e+12\n",
      "   3.63797881e-12  -6.37575559e+12  -6.37575559e+12  -6.37575559e+12\n",
      "  -6.37575559e+12  -6.37575559e+12  -6.37575559e+12  -6.37575559e+12\n",
      "  -1.81898940e-12  -6.37575559e+12  -6.37575559e+12  -6.37575559e+12\n",
      "  -6.37575559e+12  -6.37575559e+12  -3.63797881e-12  -6.37575560e+12\n",
      "  -6.37575559e+12  -6.37575560e+12  -6.37575559e+12  -6.37575560e+12\n",
      "  -6.37575560e+12  -6.37575560e+12  -6.37575559e+12  -6.37575560e+12\n",
      "  -6.37575559e+12   4.54747351e-13  -6.37575560e+12  -6.37575560e+12\n",
      "  -6.37575559e+12  -6.37575560e+12  -6.37575559e+12  -6.37575559e+12\n",
      "  -6.37575560e+12  -6.37575560e+12  -6.37575558e+12  -6.37575560e+12\n",
      "  -6.37575560e+12  -6.37575560e+12  -6.37575560e+12  -6.37575560e+12\n",
      "  -6.37575559e+12  -6.37575560e+12  -6.37575559e+12  -6.37575559e+12\n",
      "  -6.37575560e+12   5.59339242e-11  -6.37575560e+12  -6.37575560e+12\n",
      "  -5.63886715e-11  -6.37575561e+12  -6.37575560e+12  -6.37575560e+12\n",
      "  -6.37575560e+12   6.36646291e-12  -6.37575560e+12  -6.37575560e+12\n",
      "  -6.37575560e+12  -6.37575559e+12  -6.37575559e+12  -6.37575560e+12\n",
      "  -6.37575557e+12  -6.37575559e+12  -6.37575560e+12  -6.37575559e+12\n",
      "  -6.37575559e+12  -6.37575559e+12  -6.37575560e+12  -6.37575560e+12\n",
      "  -6.37575557e+12  -6.37575559e+12  -6.37575560e+12  -6.37575559e+12\n",
      "  -6.37575560e+12  -6.37575560e+12  -6.37575560e+12  -6.37575560e+12\n",
      "  -6.37575560e+12  -6.37575560e+12  -6.37575559e+12  -6.37575560e+12\n",
      "  -6.37575561e+12  -6.37575559e+12  -6.37575560e+12  -6.37575559e+12\n",
      "  -6.37575560e+12  -6.37575560e+12  -6.37575560e+12   2.72848411e-12\n",
      "  -6.37575559e+12  -6.37575560e+12  -6.37575560e+12  -6.37575559e+12\n",
      "  -6.37575560e+12  -6.37575559e+12  -6.37575560e+12  -6.37575560e+12\n",
      "  -6.37575560e+12  -6.37575560e+12  -6.37575560e+12  -6.37575561e+12\n",
      "  -6.37575561e+12  -7.78072717e-10  -6.37575561e+12  -6.37575560e+12\n",
      "  -6.37575560e+12  -6.37575560e+12  -6.37575560e+12  -6.37575560e+12\n",
      "  -6.37575560e+12  -6.37575560e+12  -6.37575561e+12  -6.37575560e+12\n",
      "  -6.37575560e+12  -6.37575560e+12  -6.37575560e+12  -6.37575560e+12\n",
      "  -6.37575561e+12  -6.37575561e+12  -6.37575561e+12  -6.37575561e+12\n",
      "  -6.37575561e+12  -6.37575561e+12  -6.37575561e+12   1.81898940e-12\n",
      "  -6.37575561e+12  -6.37575561e+12   1.25055521e-12  -6.37575561e+12\n",
      "  -6.37575559e+12  -6.37575559e+12   3.63797881e-12  -6.37575561e+12\n",
      "  -6.37575560e+12  -6.37575561e+12  -6.37575561e+12  -6.37575561e+12\n",
      "  -6.37575561e+12  -6.37575561e+12  -6.37575561e+12  -6.37575561e+12\n",
      "  -6.37575561e+12  -6.37575561e+12  -6.37575561e+12  -6.37575561e+12\n",
      "  -6.37575561e+12  -6.37575561e+12  -6.37575560e+12  -6.37575561e+12\n",
      "  -6.37575561e+12  -6.37575561e+12  -6.37575561e+12  -6.37575561e+12\n",
      "  -6.37575561e+12  -6.37575561e+12  -6.37575561e+12  -6.37575561e+12\n",
      "  -6.37575561e+12  -6.37575560e+12  -6.37575561e+12  -6.37575561e+12\n",
      "  -6.37575562e+12  -6.37575560e+12  -6.37575561e+12  -7.48741513e-10\n",
      "  -6.37575562e+12  -6.37575561e+12  -6.37575562e+12  -6.37575561e+12\n",
      "  -6.37575561e+12  -6.37575561e+12  -6.37575561e+12  -6.37575561e+12\n",
      "   1.72558146e-09  -6.37575562e+12  -6.37575562e+12  -6.37575562e+12\n",
      "  -6.37575561e+12  -6.37575561e+12  -6.37575561e+12  -6.37575562e+12\n",
      "  -6.37575561e+12  -6.37575561e+12  -6.37575561e+12  -6.37575562e+12\n",
      "  -6.37575561e+12  -6.37575562e+12  -6.37575562e+12  -6.37575561e+12\n",
      "  -6.37575562e+12  -6.37575562e+12  -6.37575562e+12  -6.37575561e+12\n",
      "  -6.37575562e+12  -6.37575562e+12  -6.37575562e+12  -6.37575562e+12\n",
      "  -6.37575562e+12  -6.37575562e+12  -6.37575562e+12  -6.37575562e+12\n",
      "  -6.37575562e+12  -6.37575562e+12  -6.37575562e+12  -6.37575561e+12\n",
      "  -6.37575562e+12  -6.37575562e+12  -6.37575562e+12  -6.37575561e+12\n",
      "  -6.37575562e+12  -6.37575562e+12  -6.37575562e+12  -6.37575562e+12\n",
      "  -6.37575562e+12  -6.37575562e+12  -6.37575562e+12  -6.37575562e+12\n",
      "   5.44787326e-10  -6.37575563e+12  -6.37575563e+12  -6.37575563e+12\n",
      "  -6.37575561e+12  -6.37575561e+12  -6.37575560e+12  -6.37575559e+12\n",
      "  -6.37575561e+12  -6.37575561e+12  -6.37575562e+12  -6.37575562e+12\n",
      "  -6.37575562e+12  -6.37575562e+12  -6.37575562e+12  -1.81321980e-09\n",
      "  -6.37575563e+12   1.01698561e-09  -6.37575563e+12  -1.81188398e-13\n",
      "  -6.37575563e+12   9.09494702e-13  -6.37575562e+12  -6.37575564e+12\n",
      "  -3.41060513e-13  -2.78173592e+01   1.29814737e+02  -4.97688987e+03\n",
      "   5.46372127e+01   1.52031042e+03  -2.21850977e+02   2.20385904e+01]\n"
     ]
    }
   ],
   "source": [
    "print(regressor.coef_)"
   ]
  },
  {
   "cell_type": "code",
   "execution_count": 16,
   "metadata": {},
   "outputs": [
    {
     "name": "stdout",
     "output_type": "stream",
     "text": [
      "6.37575554703e+12\n"
     ]
    }
   ],
   "source": [
    "print(regressor.intercept_)"
   ]
  },
  {
   "cell_type": "code",
   "execution_count": 17,
   "metadata": {},
   "outputs": [
    {
     "data": {
      "text/plain": [
       "-4.2245677172098522e+17"
      ]
     },
     "execution_count": 17,
     "metadata": {},
     "output_type": "execute_result"
    }
   ],
   "source": [
    "from sklearn.metrics import r2_score\n",
    "r2_score(y_test, y_pred)"
   ]
  }
 ],
 "metadata": {
  "kernelspec": {
   "display_name": "Python 3",
   "language": "python",
   "name": "python3"
  },
  "language_info": {
   "codemirror_mode": {
    "name": "ipython",
    "version": 3
   },
   "file_extension": ".py",
   "mimetype": "text/x-python",
   "name": "python",
   "nbconvert_exporter": "python",
   "pygments_lexer": "ipython3",
   "version": "3.5.4"
  }
 },
 "nbformat": 4,
 "nbformat_minor": 2
}
