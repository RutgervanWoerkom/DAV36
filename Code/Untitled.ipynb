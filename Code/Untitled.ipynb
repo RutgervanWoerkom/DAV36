{
 "cells": [
  {
   "cell_type": "code",
   "execution_count": 8,
   "metadata": {
    "scrolled": true
   },
   "outputs": [
    {
     "data": {
      "text/plain": [
       "JAARTAL                         int64\n",
       "MEETVERANTWOORDELIJKE          object\n",
       "NETBEHEERDER                   object\n",
       "NETGEBIED                      object\n",
       "STRAATNAAM                     object\n",
       "POSTCODE_VAN                   object\n",
       "POSTCODE_TOT                   object\n",
       "WOONPLAATS                     object\n",
       "LANDCODE                       object\n",
       "PRODUCTSOORT                   object\n",
       "VERBRUIKSSEGMENT               object\n",
       "Aantal Aansluitingen            int64\n",
       "%Leveringsrichting            float64\n",
       "%Fysieke status               float64\n",
       "%Defintieve aansl (NRM)         int64\n",
       "%Soort aansluiting              int64\n",
       "Soort aansluiting Naam         object\n",
       "SJV                             int64\n",
       "%SJV laag tarief              float64\n",
       "%Slimme Meter                 float64\n",
       "Gemiddeld aantal telwielen    float64\n",
       "dtype: object"
      ]
     },
     "execution_count": 8,
     "metadata": {},
     "output_type": "execute_result"
    }
   ],
   "source": [
    "import pandas as pd\n",
    "\n",
    "data = pd.read_csv('../Data/clean/combinedyears.csv', encoding = 'latin-1', low_memory = False)\n",
    "data.dtypes"
   ]
  },
  {
   "cell_type": "code",
   "execution_count": 10,
   "metadata": {},
   "outputs": [
    {
     "data": {
      "text/plain": [
       "JAARTAL                            0\n",
       "MEETVERANTWOORDELIJKE         131329\n",
       "NETBEHEERDER                       0\n",
       "NETGEBIED                      64471\n",
       "STRAATNAAM                         0\n",
       "POSTCODE_VAN                       0\n",
       "POSTCODE_TOT                       0\n",
       "WOONPLAATS                         0\n",
       "LANDCODE                           0\n",
       "PRODUCTSOORT                       0\n",
       "VERBRUIKSSEGMENT                   0\n",
       "Aantal Aansluitingen               0\n",
       "%Leveringsrichting                 0\n",
       "%Fysieke status                    0\n",
       "%Defintieve aansl (NRM)            0\n",
       "%Soort aansluiting                 0\n",
       "Soort aansluiting Naam             0\n",
       "SJV                                0\n",
       "%SJV laag tarief                   0\n",
       "%Slimme Meter                      0\n",
       "Gemiddeld aantal telwielen     82272\n",
       "dtype: int64"
      ]
     },
     "execution_count": 10,
     "metadata": {},
     "output_type": "execute_result"
    }
   ],
   "source": [
    "data.isnull().sum()"
   ]
  },
  {
   "cell_type": "code",
   "execution_count": null,
   "metadata": {},
   "outputs": [],
   "source": []
  }
 ],
 "metadata": {
  "kernelspec": {
   "display_name": "Python 3",
   "language": "python",
   "name": "python3"
  },
  "language_info": {
   "codemirror_mode": {
    "name": "ipython",
    "version": 3
   },
   "file_extension": ".py",
   "mimetype": "text/x-python",
   "name": "python",
   "nbconvert_exporter": "python",
   "pygments_lexer": "ipython3",
   "version": "3.6.3"
  }
 },
 "nbformat": 4,
 "nbformat_minor": 2
}
