{
 "cells": [
  {
   "cell_type": "code",
   "execution_count": 1,
   "metadata": {
    "scrolled": false
   },
   "outputs": [
    {
     "data": {
      "text/plain": [
       "JAARTAL                    int64\n",
       "STRAATNAAM                object\n",
       "POSTCODE_VAN              object\n",
       "POSTCODE_TOT              object\n",
       "PRODUCTSOORT               int64\n",
       "Aantal Aansluitingen       int64\n",
       "%Leveringsrichting         int64\n",
       "%Fysieke status            int64\n",
       "%Soort aansluiting         int64\n",
       "Soort aansluiting Naam    object\n",
       "SJV                        int64\n",
       "%SJV laag tarief           int64\n",
       "%Slimme Meter              int64\n",
       "dtype: object"
      ]
     },
     "execution_count": 1,
     "metadata": {},
     "output_type": "execute_result"
    }
   ],
   "source": [
    "import pandas as pd\n",
    "import matplotlib as plt\n",
    "import numpy as np\n",
    "import bokeh\n",
    "import seaborn as sb\n",
    "from scipy.stats import kurtosis, skew\n",
    "\n",
    "data = pd.read_csv('../Data/clean/finalclean3.0.csv', encoding = 'latin-1', low_memory = False)\n",
    "data.dtypes"
   ]
  },
  {
   "cell_type": "code",
   "execution_count": 4,
   "metadata": {},
   "outputs": [
    {
     "data": {
      "text/plain": [
       "JAARTAL                   0\n",
       "STRAATNAAM                0\n",
       "POSTCODE_VAN              0\n",
       "POSTCODE_TOT              0\n",
       "PRODUCTSOORT              0\n",
       "Aantal Aansluitingen      0\n",
       "%Leveringsrichting        0\n",
       "%Fysieke status           0\n",
       "%Soort aansluiting        0\n",
       "Soort aansluiting Naam    0\n",
       "SJV                       0\n",
       "%SJV laag tarief          0\n",
       "%Slimme Meter             0\n",
       "dtype: int64"
      ]
     },
     "execution_count": 4,
     "metadata": {},
     "output_type": "execute_result"
    }
   ],
   "source": [
    "data.isnull().sum()"
   ]
  },
  {
   "cell_type": "code",
   "execution_count": 5,
   "metadata": {},
   "outputs": [
    {
     "data": {
      "text/html": [
       "<div>\n",
       "<style>\n",
       "    .dataframe thead tr:only-child th {\n",
       "        text-align: right;\n",
       "    }\n",
       "\n",
       "    .dataframe thead th {\n",
       "        text-align: left;\n",
       "    }\n",
       "\n",
       "    .dataframe tbody tr th {\n",
       "        vertical-align: top;\n",
       "    }\n",
       "</style>\n",
       "<table border=\"1\" class=\"dataframe\">\n",
       "  <thead>\n",
       "    <tr style=\"text-align: right;\">\n",
       "      <th></th>\n",
       "      <th>JAARTAL</th>\n",
       "      <th>STRAATNAAM</th>\n",
       "      <th>POSTCODE_VAN</th>\n",
       "      <th>POSTCODE_TOT</th>\n",
       "      <th>PRODUCTSOORT</th>\n",
       "      <th>Aantal Aansluitingen</th>\n",
       "      <th>%Leveringsrichting</th>\n",
       "      <th>%Fysieke status</th>\n",
       "      <th>%Soort aansluiting</th>\n",
       "      <th>Soort aansluiting Naam</th>\n",
       "      <th>SJV</th>\n",
       "      <th>%SJV laag tarief</th>\n",
       "      <th>%Slimme Meter</th>\n",
       "    </tr>\n",
       "  </thead>\n",
       "  <tbody>\n",
       "    <tr>\n",
       "      <th>0</th>\n",
       "      <td>2018</td>\n",
       "      <td>De Ruyterkade Steigers</td>\n",
       "      <td>1011AA</td>\n",
       "      <td>1011AB</td>\n",
       "      <td>0</td>\n",
       "      <td>35</td>\n",
       "      <td>10</td>\n",
       "      <td>3</td>\n",
       "      <td>31</td>\n",
       "      <td>3x25</td>\n",
       "      <td>14403</td>\n",
       "      <td>4</td>\n",
       "      <td>2</td>\n",
       "    </tr>\n",
       "    <tr>\n",
       "      <th>1</th>\n",
       "      <td>2018</td>\n",
       "      <td>De Ruyterkade</td>\n",
       "      <td>1011AC</td>\n",
       "      <td>1011AC</td>\n",
       "      <td>0</td>\n",
       "      <td>39</td>\n",
       "      <td>10</td>\n",
       "      <td>5</td>\n",
       "      <td>28</td>\n",
       "      <td>3x80</td>\n",
       "      <td>18739</td>\n",
       "      <td>5</td>\n",
       "      <td>2</td>\n",
       "    </tr>\n",
       "    <tr>\n",
       "      <th>2</th>\n",
       "      <td>2018</td>\n",
       "      <td>De Ruyterkade</td>\n",
       "      <td>1011AC</td>\n",
       "      <td>1011AC</td>\n",
       "      <td>1</td>\n",
       "      <td>24</td>\n",
       "      <td>10</td>\n",
       "      <td>7</td>\n",
       "      <td>38</td>\n",
       "      <td>G6</td>\n",
       "      <td>6589</td>\n",
       "      <td>0</td>\n",
       "      <td>2</td>\n",
       "    </tr>\n",
       "    <tr>\n",
       "      <th>3</th>\n",
       "      <td>2018</td>\n",
       "      <td>Oosterdokskade</td>\n",
       "      <td>1011AD</td>\n",
       "      <td>1011AD</td>\n",
       "      <td>0</td>\n",
       "      <td>19</td>\n",
       "      <td>10</td>\n",
       "      <td>0</td>\n",
       "      <td>58</td>\n",
       "      <td>3x25</td>\n",
       "      <td>4026</td>\n",
       "      <td>5</td>\n",
       "      <td>0</td>\n",
       "    </tr>\n",
       "    <tr>\n",
       "      <th>4</th>\n",
       "      <td>2018</td>\n",
       "      <td>Oosterdokskade</td>\n",
       "      <td>1011AD</td>\n",
       "      <td>1011AE</td>\n",
       "      <td>1</td>\n",
       "      <td>11</td>\n",
       "      <td>10</td>\n",
       "      <td>0</td>\n",
       "      <td>82</td>\n",
       "      <td>G4</td>\n",
       "      <td>710</td>\n",
       "      <td>0</td>\n",
       "      <td>0</td>\n",
       "    </tr>\n",
       "  </tbody>\n",
       "</table>\n",
       "</div>"
      ],
      "text/plain": [
       "   JAARTAL              STRAATNAAM POSTCODE_VAN POSTCODE_TOT  PRODUCTSOORT  \\\n",
       "0     2018  De Ruyterkade Steigers       1011AA       1011AB             0   \n",
       "1     2018           De Ruyterkade       1011AC       1011AC             0   \n",
       "2     2018           De Ruyterkade       1011AC       1011AC             1   \n",
       "3     2018          Oosterdokskade       1011AD       1011AD             0   \n",
       "4     2018          Oosterdokskade       1011AD       1011AE             1   \n",
       "\n",
       "   Aantal Aansluitingen  %Leveringsrichting  %Fysieke status  \\\n",
       "0                    35                  10                3   \n",
       "1                    39                  10                5   \n",
       "2                    24                  10                7   \n",
       "3                    19                  10                0   \n",
       "4                    11                  10                0   \n",
       "\n",
       "   %Soort aansluiting Soort aansluiting Naam    SJV  %SJV laag tarief  \\\n",
       "0                  31                   3x25  14403                 4   \n",
       "1                  28                   3x80  18739                 5   \n",
       "2                  38                     G6   6589                 0   \n",
       "3                  58                   3x25   4026                 5   \n",
       "4                  82                     G4    710                 0   \n",
       "\n",
       "   %Slimme Meter  \n",
       "0              2  \n",
       "1              2  \n",
       "2              2  \n",
       "3              0  \n",
       "4              0  "
      ]
     },
     "execution_count": 5,
     "metadata": {},
     "output_type": "execute_result"
    }
   ],
   "source": [
    "data.head()"
   ]
  },
  {
   "cell_type": "code",
   "execution_count": 4,
   "metadata": {
    "scrolled": false
   },
   "outputs": [
    {
     "data": {
      "text/plain": [
       "RangeIndex(start=0, stop=160548, step=1)"
      ]
     },
     "execution_count": 4,
     "metadata": {},
     "output_type": "execute_result"
    }
   ],
   "source": [
    "groups = data.groupby('JAARTAL')\n",
    "groups = groups.apply(lambda x:x)\n",
    "groups.index"
   ]
  },
  {
   "cell_type": "code",
   "execution_count": 139,
   "metadata": {},
   "outputs": [
    {
     "name": "stderr",
     "output_type": "stream",
     "text": [
      "ERROR:bokeh.core.validation.check:E-1001 (BAD_COLUMN_NAME): Glyph refers to nonexistent column name: 2015 [renderer: GlyphRenderer(id='607053ae-19e7-4b9d-9468-114306ffe00f', ...)]\n",
      "ERROR:bokeh.core.validation.check:E-1001 (BAD_COLUMN_NAME): Glyph refers to nonexistent column name: 2016 [renderer: GlyphRenderer(id='be1d7a21-6c84-4fcd-959f-28eaf9b3ce7a', ...)]\n"
     ]
    }
   ],
   "source": [
    "from bokeh.core.properties import value\n",
    "from bokeh.io import show, output_file\n",
    "from bokeh.models import ColumnDataSource\n",
    "from bokeh.plotting import figure\n",
    "from bokeh.transform import dodge\n",
    "\n",
    "groups = data.groupby('JAARTAL')\n",
    "groups = groups.apply(lambda x:x)\n",
    "groups.index\n",
    "\n",
    "dic_data = {'years': year_list,\n",
    "             'elk' : sjv_list[0::2],\n",
    "            'gas': sjv_list[1::2]}\n",
    "\n",
    "source = ColumnDataSource(data=dic_data)\n",
    "\n",
    "p = figure(x_range=year_list, y_range=(0, 4000), plot_height=500, title=\"Gemiddeld verbruik per jaar\",\n",
    "           toolbar_location=None, tools=[\"pan\",\"zoom_in\",'wheel_zoom','zoom_out'])\n",
    "\n",
    "p.vbar(x=dodge('years', -0.125, range=p.x_range), top='elk', width=0.2, source=source,\n",
    "       color=\"#c9d9d3\", legend=value(\"elektriciteit\"))\n",
    "\n",
    "p.vbar(x=dodge('years',  0.125,  range=p.x_range), top='gas', width=0.2, source=source,\n",
    "       color=\"#718dbf\", legend=value(\"gas\"))\n",
    "\n",
    "p.x_range.range_padding = 0.1\n",
    "p.xgrid.grid_line_color = None\n",
    "p.legend.location = \"top_right\"\n",
    "p.legend.orientation = \"horizontal\"\n",
    "\n",
    "show(p)"
   ]
  },
  {
   "cell_type": "code",
   "execution_count": null,
   "metadata": {
    "scrolled": true
   },
   "outputs": [],
   "source": []
  },
  {
   "cell_type": "code",
   "execution_count": null,
   "metadata": {},
   "outputs": [],
   "source": []
  },
  {
   "cell_type": "code",
   "execution_count": null,
   "metadata": {},
   "outputs": [],
   "source": []
  }
 ],
 "metadata": {
  "kernelspec": {
   "display_name": "Python 3",
   "language": "python",
   "name": "python3"
  },
  "language_info": {
   "codemirror_mode": {
    "name": "ipython",
    "version": 3
   },
   "file_extension": ".py",
   "mimetype": "text/x-python",
   "name": "python",
   "nbconvert_exporter": "python",
   "pygments_lexer": "ipython3",
   "version": "3.6.3"
  }
 },
 "nbformat": 4,
 "nbformat_minor": 2
}
